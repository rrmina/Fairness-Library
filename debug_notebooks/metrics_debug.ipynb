{
 "cells": [
  {
   "cell_type": "code",
   "execution_count": 1,
   "metadata": {},
   "outputs": [],
   "source": [
    "import numpy as np"
   ]
  },
  {
   "cell_type": "code",
   "execution_count": 155,
   "metadata": {},
   "outputs": [],
   "source": [
    "def acc_gap(A, Y_hat, Y, debug=False):\n",
    "    assert Y_hat.shape == Y.shape, \"Y_hat and Y is expected to have the same shape\"\n",
    "    assert Y_hat.shape == A.shape, \"Y_hat and A is expected to have the same shape\"\n",
    "    assert len(A.shape) == 1, \"A, Y_hat, and Y is expected to be 1D vectors\"\n",
    "\n",
    "    # Group 0 Ground Truth and Predictions\n",
    "    Y_A0 = Y[A==0]\n",
    "    Y_hat_A0 = Y_hat[A==0]\n",
    "\n",
    "    # Group 1 Ground Truth and Predictions\n",
    "    Y_A1 = Y[A==1]\n",
    "    Y_hat_A1 = Y_hat[A==1]\n",
    "\n",
    "    # Get the accuracies for both groups\n",
    "    Acc0 = np.mean((Y_A0 == Y_hat_A0)*1)\n",
    "    Acc1 = np.mean((Y_A1 == Y_hat_A1)*1)\n",
    "    \n",
    "    if (debug):\n",
    "        print(\"Acc0: {} ~ Acc1: {}\".format(Acc0, Acc1))\n",
    "\n",
    "    return abs(Acc0 - Acc1)"
   ]
  },
  {
   "cell_type": "code",
   "execution_count": 156,
   "metadata": {},
   "outputs": [],
   "source": [
    "A = np.asarray([0, 1, 0, 1, 0, 1])\n",
    "Y = np.asarray([1,1,1,0,0,0])\n",
    "Y_hat = np.array([1,0,1,0,0,0])\n"
   ]
  },
  {
   "cell_type": "code",
   "execution_count": 157,
   "metadata": {},
   "outputs": [
    {
     "data": {
      "text/plain": [
       "0.33333333333333337"
      ]
     },
     "execution_count": 157,
     "metadata": {},
     "output_type": "execute_result"
    }
   ],
   "source": [
    "acc_gap(A, Y_hat, Y)"
   ]
  },
  {
   "cell_type": "code",
   "execution_count": 158,
   "metadata": {},
   "outputs": [
    {
     "data": {
      "text/plain": [
       "array([ True, False,  True, False, False, False])"
      ]
     },
     "execution_count": 158,
     "metadata": {},
     "output_type": "execute_result"
    }
   ],
   "source": [
    "Y_hat == 1"
   ]
  },
  {
   "cell_type": "code",
   "execution_count": 159,
   "metadata": {},
   "outputs": [],
   "source": [
    "def DP_gap(A, Y_hat, debug=False):\n",
    "    assert Y_hat.shape == A.shape, \"Y_hat and A is expected to have the same shape\"\n",
    "\n",
    "    # Group 0 Predictions\n",
    "    Y_hat_A0 = Y_hat[A == 0]\n",
    "\n",
    "    # Group 1 Prediction\n",
    "    Y_hat_A1 = Y_hat[A == 1]\n",
    "\n",
    "    # Get the positive rates\n",
    "    PosRate0 = np.mean((Y_hat_A0 == 1) * 1)\n",
    "    PosRate1 = np.mean((Y_hat_A1== 1) * 1)\n",
    "\n",
    "    if (debug):\n",
    "        print(\"Pos Rate 0: {} ~ Pos Rate 1: {}\".format(PosRate0, PosRate1))\n",
    "\n",
    "    return abs(PosRate0 - PosRate1) "
   ]
  },
  {
   "cell_type": "code",
   "execution_count": 160,
   "metadata": {},
   "outputs": [
    {
     "name": "stdout",
     "output_type": "stream",
     "text": [
      "Pos Rate 0: 0.6666666666666666 ~ Pos Rate 1: 0.0\n"
     ]
    },
    {
     "data": {
      "text/plain": [
       "0.6666666666666666"
      ]
     },
     "execution_count": 160,
     "metadata": {},
     "output_type": "execute_result"
    }
   ],
   "source": [
    "DP_gap(A, Y_hat, debug=True)"
   ]
  },
  {
   "cell_type": "code",
   "execution_count": 192,
   "metadata": {},
   "outputs": [],
   "source": [
    "import numpy as np\n",
    "\n",
    "def report_group_metrics(A, Y_hat, Y, debug=False):\n",
    "    assert Y_hat.shape == Y.shape, \"Y_hat and Y are expected to have the same shape\"\n",
    "    assert Y_hat.shape == A.shape, \"Y_hat and A are expected to have the same shape\"\n",
    "    assert len(A.shape) == 1, \"A, Y_hat, and Y are expected to be 1D vectors\"\n",
    "\n",
    "    if (debug):\n",
    "        print(\"=\" * 70)\n",
    "        print(\"{}{}\".format(\" \" * 30, \"Debug Logs\"))\n",
    "        print(\"=\" * 70)\n",
    "\n",
    "    # Compute metrics\n",
    "    base_rate = Base_rate(A, Y, debug)\n",
    "    dp_gap = DP_gap(A, Y_hat, debug)\n",
    "    eo_gap = EO_gap(A, Y_hat, Y, debug)\n",
    "    eopp_gap = EOpp_gap(A, Y_hat, Y, debug)\n",
    "    acc_gap = Acc_gap(A, Y_hat, Y, debug)\n",
    "\n",
    "    # Pretty Printing\n",
    "    \n",
    "    \n",
    "    row_format = \"{:>30}{:>30.2f}\"\n",
    "    data = []\n",
    "    data.append([\"Base Rate\", base_rate])\n",
    "    data.append([\"Demographic Parity\", dp_gap])\n",
    "    data.append([\"Equalized Odds\", eo_gap])\n",
    "    data.append([\"Equal Opportunity Y0\", eopp_gap[0]])\n",
    "    data.append([\"Equal Opportunity Y1\", eopp_gap[1]])\n",
    "    data.append([\"Accuracy Parity\", acc_gap])\n",
    "\n",
    "    # Print\n",
    "    headers = [\"Fairness Definitions\", \"Gap Values\"]\n",
    "    print(\"=\" * (len(headers) * 30 + 10))\n",
    "    print(\"{:>30}{:>30}\".format(*headers))\n",
    "    print(\"=\" * (len(headers) * 30 + 10))\n",
    "    for row in data:\n",
    "        print(row_format.format(*row))\n",
    "\n",
    "def DP_gap(A, Y_hat, debug=False):\n",
    "    assert Y_hat.shape == A.shape, \"Y_hat and A are expected to have the same shape\"\n",
    "    assert len(A.shape) == 1, \"A and Y are expected to be 1D vectors\"\n",
    "\n",
    "    # Group 0 Predictions\n",
    "    Y_hat_A0 = Y_hat[A == 0]\n",
    "\n",
    "    # Group 1 Prediction\n",
    "    Y_hat_A1 = Y_hat[A == 1]\n",
    "\n",
    "    # Get the positive rates\n",
    "    PosRate0 = np.mean((Y_hat_A0 == 1) * 1)\n",
    "    PosRate1 = np.mean((Y_hat_A1== 1) * 1)\n",
    "\n",
    "    if (debug):\n",
    "        print(\"Demographic Parity\")\n",
    "        print(\"{:>5} Positive Rate (A=0): {:>20.2f}\".format(\"\", PosRate0))\n",
    "        print(\"{:>5} Positive Rate (A=1): {:>20.2f}\".format(\"\", PosRate1))\n",
    "\n",
    "    return abs(PosRate0 - PosRate1) \n",
    "\n",
    "def EO_gap(A, Y_hat, Y, debug=False):\n",
    "    assert Y_hat.shape == Y.shape, \"Y_hat and Y are expected to have the same shape\"\n",
    "    assert Y_hat.shape == A.shape, \"Y_hat and A are expected to have the same shape\"\n",
    "    assert len(A.shape) == 1, \"A, Y_hat, and Y are expected to be 1D vectors\"\n",
    "\n",
    "    Y_hat_A0 = Y_hat[A==0]      # Predictions of Group 0\n",
    "    Y_hat_A1 = Y_hat[A==1]      # Predictions of Group 1\n",
    "    Y_A0 = Y[A==0]              # Labels of Group 0\n",
    "    Y_A1 = Y[A==1]              # Labels of Group 1\n",
    "\n",
    "    Y_hat_A0_Y1 = Y_hat_A0[Y_A0==1]           # Predictions of Group 0 with corresponding Ground Truth Labels 1\n",
    "    Y_hat_A1_Y1 = Y_hat_A1[Y_A1==1]           # Predictions of Group 1 with corresponding Ground Truth Labels 1\n",
    "    Y_hat_A0_Y0 = Y_hat_A0[Y_A0==0]           # Predictions of Group 0 with corresponding Ground Truth Labels 0\n",
    "    Y_hat_A1_Y0 = Y_hat_A1[Y_A1==0]           # Predictions of Group 1 with corresponding Ground Truth Labels 0\n",
    "\n",
    "    # Positive Rates given the conditions\n",
    "    PosRate_A0_Y1 = np.mean((Y_hat_A0_Y1 == 1) * 1)\n",
    "    PosRate_A1_Y1 = np.mean((Y_hat_A1_Y1 == 1) * 1)\n",
    "    PosRate_A0_Y0 = np.mean((Y_hat_A0_Y0 == 1) * 1)\n",
    "    PosRate_A1_Y0 = np.mean((Y_hat_A1_Y0 == 1) * 1)\n",
    "\n",
    "    # Equal Opportunity on both sides\n",
    "    Eopp_Y0 = abs(PosRate_A0_Y0 - PosRate_A1_Y0)\n",
    "    Eopp_Y1 = abs(PosRate_A0_Y1 - PosRate_A1_Y1)\n",
    "\n",
    "    if (debug):\n",
    "        print(\"Equalized Odds\")\n",
    "        print(\"{:>5} Equal Opporunity (Y=0)\".format(\"\"))\n",
    "        print(\"{:>5} {:>5} Positive Rate (A=0) and (Y=0): {:>20.2f}\".format(\"\", \"\", PosRate_A0_Y0))\n",
    "        print(\"{:>5} {:>5} Positive Rate (A=1) and (Y=0): {:>20.2f}\".format(\"\", \"\", PosRate_A1_Y0))\n",
    "        print(\"{:>5} Equal Opporunity (Y=1)\".format(\"\"))\n",
    "        print(\"{:>5} {:>5} Positive Rate (A=0) and (Y=1): {:>20.2f}\".format(\"\", \"\", PosRate_A0_Y1))\n",
    "        print(\"{:>5} {:>5} Positive Rate (A=1) and (Y=1): {:>20.2f}\".format(\"\", \"\", PosRate_A1_Y1))\n",
    "\n",
    "    return Eopp_Y0 + Eopp_Y1\n",
    "\n",
    "def EOpp_gap(A, Y_hat, Y, debug=False):\n",
    "    assert Y_hat.shape == Y.shape, \"Y_hat and Y are expected to have the same shape\"\n",
    "    assert Y_hat.shape == A.shape, \"Y_hat and A are expected to have the same shape\"\n",
    "    assert len(A.shape) == 1, \"A, Y_hat, and Y are expected to be 1D vectors\"\n",
    "\n",
    "    Y_hat_A0 = Y_hat[A==0]      # Predictions of Group 0\n",
    "    Y_hat_A1 = Y_hat[A==1]      # Predictions of Group 1\n",
    "    Y_A0 = Y[A==0]              # Labels of Group 0\n",
    "    Y_A1 = Y[A==1]              # Labels of Group 1\n",
    "\n",
    "    Y_hat_A0_Y1 = Y_hat_A0[Y_A0==1]           # Predictions of Group 0 with corresponding Ground Truth Labels 1\n",
    "    Y_hat_A1_Y1 = Y_hat_A1[Y_A1==1]           # Predictions of Group 1 with corresponding Ground Truth Labels 1\n",
    "    Y_hat_A0_Y0 = Y_hat_A0[Y_A0==0]           # Predictions of Group 0 with corresponding Ground Truth Labels 0\n",
    "    Y_hat_A1_Y0 = Y_hat_A1[Y_A1==0]           # Predictions of Group 1 with corresponding Ground Truth Labels 0\n",
    "\n",
    "    # Positive Rates given the conditions\n",
    "    PosRate_A0_Y1 = np.mean((Y_hat_A0_Y1 == 1) * 1)\n",
    "    PosRate_A1_Y1 = np.mean((Y_hat_A1_Y1 == 1) * 1)\n",
    "    PosRate_A0_Y0 = np.mean((Y_hat_A0_Y0 == 1) * 1)\n",
    "    PosRate_A1_Y0 = np.mean((Y_hat_A1_Y0 == 1) * 1)\n",
    "\n",
    "    # Equal Opportunity on both sides\n",
    "    Eopp_Y0 = abs(PosRate_A0_Y0 - PosRate_A1_Y0)\n",
    "    Eopp_Y1 = abs(PosRate_A0_Y1 - PosRate_A1_Y1)\n",
    "\n",
    "    if (debug):\n",
    "        print(\"Equal Opportunity\")\n",
    "        print(\"{:>5} Equal Opporunity (Y=0)\".format(\"\"))\n",
    "        print(\"{:>5} {:>5} Positive Rate (A=0) and (Y=0): {:>20.2f}\".format(\"\", \"\", PosRate_A0_Y0))\n",
    "        print(\"{:>5} {:>5} Positive Rate (A=1) and (Y=0): {:>20.2f}\".format(\"\", \"\", PosRate_A1_Y0))\n",
    "        print(\"{:>5} Equal Opporunity (Y=1)\".format(\"\"))\n",
    "        print(\"{:>5} {:>5} Positive Rate (A=0) and (Y=1): {:>20.2f}\".format(\"\", \"\", PosRate_A0_Y1))\n",
    "        print(\"{:>5} {:>5} Positive Rate (A=1) and (Y=1): {:>20.2f}\".format(\"\", \"\", PosRate_A1_Y1))\n",
    "\n",
    "    return Eopp_Y0, Eopp_Y1\n",
    "\n",
    "def Acc_gap(A, Y_hat, Y, debug=False):\n",
    "    assert Y_hat.shape == Y.shape, \"Y_hat and Y are expected to have the same shape\"\n",
    "    assert Y_hat.shape == A.shape, \"Y_hat and A are expected to have the same shape\"\n",
    "    assert len(A.shape) == 1, \"A, Y_hat, and Y are expected to be 1D vectors\"\n",
    "\n",
    "    # Group 0 Ground Truth and Predictions\n",
    "    Y_A0 = Y[A==0]\n",
    "    Y_hat_A0 = Y_hat[A==0]\n",
    "\n",
    "    # Group 1 Ground Truth and Predictions\n",
    "    Y_A1 = Y[A==1]\n",
    "    Y_hat_A1 = Y_hat[A==1]\n",
    "\n",
    "    # Get the accuracies for both groups\n",
    "    Acc0 = np.mean((Y_A0 == Y_hat_A0)*1)\n",
    "    Acc1 = np.mean((Y_A1 == Y_hat_A1)*1)\n",
    "    \n",
    "    if (debug):\n",
    "        print(\"Accuracy Parity\")\n",
    "        print(\"{:>5} Accuracy (A=0): {:>20.2f}\".format(\"\", Acc0))\n",
    "        print(\"{:>5} Accuracy (A=1): {:>20.2f}\".format(\"\", Acc1))\n",
    "\n",
    "    return abs(Acc0 - Acc1)\n",
    "\n",
    "# DP_gap and Base are essentially the same, except for their inputs\n",
    "def Base_rate(A, Y, debug=False):\n",
    "    assert Y.shape == A.shape, \"Y and A are expected to have the same shape\"\n",
    "    assert len(A.shape) == 1, \"A and Y are expected to be 1D vectors\"\n",
    "\n",
    "    # Group 0 Labels\n",
    "    Y_A0 = Y[A == 0]\n",
    "\n",
    "    # Group 1 Labels\n",
    "    Y_A1 = Y[A == 1]\n",
    "\n",
    "    # Get the positive rates\n",
    "    BaseRate0 = np.mean((Y_A0 == 1) * 1)\n",
    "    BaseRate1 = np.mean((Y_A1== 1) * 1)\n",
    "\n",
    "    if (debug):\n",
    "        print(\"Base Rate\")\n",
    "        print(\"{:>5} Base Rate (A=0): {:>20.2f}\".format(\"\", BaseRate0))\n",
    "        print(\"{:>5} Base Rate (A=1): {:>20.2f}\".format(\"\", BaseRate1))\n",
    "\n",
    "    return abs(BaseRate0 - BaseRate1) "
   ]
  },
  {
   "cell_type": "code",
   "execution_count": 193,
   "metadata": {},
   "outputs": [
    {
     "name": "stdout",
     "output_type": "stream",
     "text": [
      "======================================================================\n",
      "                              Debug Logs\n",
      "======================================================================\n",
      "Base Rate\n",
      "      Base Rate (A=0):                 0.67\n",
      "      Base Rate (A=1):                 0.33\n",
      "Demographic Parity\n",
      "      Positive Rate (A=0):                 0.67\n",
      "      Positive Rate (A=1):                 0.00\n",
      "Equalized Odds\n",
      "      Equal Opporunity (Y=0)\n",
      "            Positive Rate (A=0) and (Y=0):                 0.00\n",
      "            Positive Rate (A=1) and (Y=0):                 0.00\n",
      "      Equal Opporunity (Y=1)\n",
      "            Positive Rate (A=0) and (Y=1):                 1.00\n",
      "            Positive Rate (A=1) and (Y=1):                 0.00\n",
      "Equal Opportunity\n",
      "      Equal Opporunity (Y=0)\n",
      "            Positive Rate (A=0) and (Y=0):                 0.00\n",
      "            Positive Rate (A=1) and (Y=0):                 0.00\n",
      "      Equal Opporunity (Y=1)\n",
      "            Positive Rate (A=0) and (Y=1):                 1.00\n",
      "            Positive Rate (A=1) and (Y=1):                 0.00\n",
      "Accuracy Parity\n",
      "      Accuracy (A=0):                 1.00\n",
      "      Accuracy (A=1):                 0.67\n",
      "======================================================================\n",
      "          Fairness Definitions                    Gap Values\n",
      "======================================================================\n",
      "                     Base Rate                          0.33\n",
      "            Demographic Parity                          0.67\n",
      "                Equalized Odds                          1.00\n",
      "          Equal Opportunity Y0                          0.00\n",
      "          Equal Opportunity Y1                          1.00\n",
      "               Accuracy Parity                          0.33\n"
     ]
    }
   ],
   "source": [
    "report_group_metrics(A, Y_hat, Y, True)"
   ]
  },
  {
   "cell_type": "code",
   "execution_count": 163,
   "metadata": {},
   "outputs": [],
   "source": [
    "A = np.asarray([0, 1, 0, 1, 0, 1])\n",
    "Y = np.asarray([1,1,1,0,0,0])\n",
    "Y_hat = np.array([1,0,1,0,0,0])"
   ]
  },
  {
   "cell_type": "code",
   "execution_count": 50,
   "metadata": {},
   "outputs": [
    {
     "name": "stdout",
     "output_type": "stream",
     "text": [
      "Pos Rate A0: 0.6666666666666666 ~ Pos Rate A1: 0.0\n",
      "0.6666666666666666\n",
      "Eopp_Y0: 0.0 ||| PosRate_A0_Y0: 0.0 ~ PosRate_A1_Y0: 0.0\n",
      "Eopp_Y1: 1.0 ||| PosRate_A0_Y1: 1.0 ~ PosRate_A1_Y1: 0.0\n",
      "1.0\n",
      "Eopp_Y0: 0.0 ||| PosRate_A0_Y0: 0.0 ~ PosRate_A1_Y0: 0.0\n",
      "Eopp_Y1: 1.0 ||| PosRate_A0_Y1: 1.0 ~ PosRate_A1_Y1: 0.0\n",
      "(0.0, 1.0)\n",
      "Acc A0: 1.0 ~ Acc A1: 0.6666666666666666\n",
      "0.33333333333333337\n",
      "Base Rate A0: 0.6666666666666666 ~ Base Rate A1: 0.3333333333333333\n",
      "0.3333333333333333\n"
     ]
    }
   ],
   "source": [
    "print(DP_gap(A, Y_hat, True))\n",
    "print(EO_gap(A, Y_hat, Y, True))\n",
    "print(EOpp_gap(A, Y_hat, Y, True))\n",
    "print(Acc_gap(A, Y_hat, Y, True))\n",
    "print(base_rate(A, Y, True))"
   ]
  },
  {
   "cell_type": "code",
   "execution_count": 133,
   "metadata": {},
   "outputs": [],
   "source": [
    "import adult"
   ]
  },
  {
   "cell_type": "code",
   "execution_count": 134,
   "metadata": {},
   "outputs": [
    {
     "data": {
      "text/plain": [
       "<module 'adult' from 'C:\\\\Users\\\\Rusty\\\\Desktop\\\\fair-rep-lib\\\\adult.py'>"
      ]
     },
     "execution_count": 134,
     "metadata": {},
     "output_type": "execute_result"
    }
   ],
   "source": [
    "adult"
   ]
  },
  {
   "cell_type": "code",
   "execution_count": 135,
   "metadata": {},
   "outputs": [
    {
     "name": "stdout",
     "output_type": "stream",
     "text": [
      "Found and verified  data/adult.data\n",
      "Found and verified  data/adult.test\n"
     ]
    }
   ],
   "source": [
    "hi = adult.load_dataset()"
   ]
  },
  {
   "cell_type": "code",
   "execution_count": 144,
   "metadata": {},
   "outputs": [
    {
     "name": "stdout",
     "output_type": "stream",
     "text": [
      "Found and verified  data/adult.data\n",
      "Found and verified  data/adult.test\n"
     ]
    }
   ],
   "source": [
    "X, A, Y = adult.load_dataset()\n",
    "A = A.numpy() * 1\n",
    "Y = Y.numpy() * 1"
   ]
  },
  {
   "cell_type": "code",
   "execution_count": 146,
   "metadata": {},
   "outputs": [],
   "source": [
    "import metrics"
   ]
  },
  {
   "cell_type": "code",
   "execution_count": 151,
   "metadata": {},
   "outputs": [
    {
     "name": "stdout",
     "output_type": "stream",
     "text": [
      "Base Rate\n",
      "      Base Rate (A=0):                 0.38\n",
      "      Base Rate (A=1):                 0.15\n"
     ]
    },
    {
     "data": {
      "text/plain": [
       "0.2346051854449924"
      ]
     },
     "execution_count": 151,
     "metadata": {},
     "output_type": "execute_result"
    }
   ],
   "source": [
    "metrics.Base_rate(A, Y, True)"
   ]
  },
  {
   "cell_type": "code",
   "execution_count": null,
   "metadata": {},
   "outputs": [],
   "source": []
  }
 ],
 "metadata": {
  "kernelspec": {
   "display_name": "Python 3",
   "language": "python",
   "name": "python3"
  },
  "language_info": {
   "codemirror_mode": {
    "name": "ipython",
    "version": 3
   },
   "file_extension": ".py",
   "mimetype": "text/x-python",
   "name": "python",
   "nbconvert_exporter": "python",
   "pygments_lexer": "ipython3",
   "version": "3.7.6"
  }
 },
 "nbformat": 4,
 "nbformat_minor": 4
}
